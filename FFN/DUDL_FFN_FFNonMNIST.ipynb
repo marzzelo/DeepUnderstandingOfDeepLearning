{
 "nbformat": 4,
 "nbformat_minor": 0,
 "metadata": {
  "colab": {
   "provenance": [
    {
     "file_id": "1qKgZ8kVcqNgwtBzHbWq5yJH_HqI6DxWW",
     "timestamp": 1617803880910
    },
    {
     "file_id": "15cpyHkJ435B4MqbyGjAH1poN4nCy_DE4",
     "timestamp": 1617737766196
    },
    {
     "file_id": "1OLuWuaFu0hcFgkQ2hh5BqbRuqUZD7XcQ",
     "timestamp": 1617734878578
    },
    {
     "file_id": "1XvzVGJPTJifVh8OpZVB7ykLxyUqYwQ1j",
     "timestamp": 1617196833019
    },
    {
     "file_id": "1bv1_y32e3KEExFKKlPfC3rpw1JxmBr8H",
     "timestamp": 1617124341706
    },
    {
     "file_id": "1GMq8u7KyHB2AE7Teyls9gK1T01OduQSn",
     "timestamp": 1616697516760
    },
    {
     "file_id": "1Ui3kyHim-e0XLgDs2mkBxVlYg7TKYtcg",
     "timestamp": 1616615469755
    },
    {
     "file_id": "1YpHocGI4rApOxIBb1ZghCU5L-hFnv4CK",
     "timestamp": 1616608248670
    }
   ],
   "authorship_tag": "ABX9TyO+KyMJyd5g15zUGnPfUT+C"
  },
  "kernelspec": {
   "name": "python3",
   "display_name": "Python 3 (ipykernel)",
   "language": "python"
  }
 },
 "cells": [
  {
   "cell_type": "markdown",
   "metadata": {
    "id": "bhWV8oes-wKR"
   },
   "source": [
    "# COURSE: A deep understanding of deep learning\n",
    "## SECTION: FFNs (feed-forward networks)\n",
    "### LECTURE: FFN to classify digits\n",
    "#### TEACHER: Mike X Cohen, sincxpress.com\n",
    "##### COURSE URL: udemy.com/course/deeplearning_x/?couponCode=202305"
   ]
  },
  {
   "metadata": {
    "ExecuteTime": {
     "end_time": "2024-07-19T16:26:18.610239Z",
     "start_time": "2024-07-19T16:26:12.655430Z"
    }
   },
   "cell_type": "code",
   "source": [
    "import matplotlib.pyplot as plt\n",
    "import matplotlib_inline.backend_inline\n",
    "# import libraries\n",
    "import numpy as np\n",
    "import torch\n",
    "import torch.nn as nn\n",
    "import torch.nn.functional as F\n",
    "from sklearn.model_selection import train_test_split\n",
    "from torch.utils.data import DataLoader, TensorDataset\n",
    "\n",
    "# Change the format from SVG to PNG to avoid the \"untrusted SVG\" issue\n",
    "matplotlib_inline.backend_inline.set_matplotlib_formats('png')"
   ],
   "outputs": [],
   "execution_count": 1
  },
  {
   "cell_type": "markdown",
   "metadata": {
    "id": "0HOkOefftqyg"
   },
   "source": [
    "# Import and process the data"
   ]
  },
  {
   "cell_type": "code",
   "metadata": {
    "id": "MU7rvmWuhjud",
    "ExecuteTime": {
     "end_time": "2024-07-19T16:28:55.653394Z",
     "start_time": "2024-07-19T16:28:54.694682Z"
    }
   },
   "source": [
    "# import dataset (comes with colab!)\n",
    "data = np.loadtxt(open('sample_data/mnist_train_small.csv', 'rb'), delimiter=';')\n",
    "# remove first row (header)\n",
    "data = data[1:, :]\n",
    "print(\"data shape: \", data.shape)  # should be 20000x785, where the columns are 1 label and 784 pixels\n",
    "# extract labels (number IDs) and remove from data\n",
    "labels = data[:, 0]\n",
    "data = data[:, 1:]\n",
    "\n",
    "print(\"labels (data[:,0]): \", labels)\n",
    "print(\"labels shape: \", labels.shape)\n"
   ],
   "outputs": [
    {
     "name": "stdout",
     "output_type": "stream",
     "text": [
      "data shape:  (20000, 785)\n",
      "labels (data[:,0]):  [6. 5. 7. ... 2. 9. 5.]\n",
      "labels shape:  (20000,)\n"
     ]
    }
   ],
   "execution_count": 10
  },
  {
   "cell_type": "code",
   "metadata": {
    "id": "8948Heuwth0l",
    "colab": {
     "base_uri": "https://localhost:8080/",
     "height": 397
    },
    "executionInfo": {
     "status": "ok",
     "timestamp": 1680430293320,
     "user_tz": -180,
     "elapsed": 2608,
     "user": {
      "displayName": "Mike X Cohen",
      "userId": "13901636194183843661"
     }
    },
    "outputId": "18c40983-dbee-4d8a-ad74-c0bcf7baf664",
    "ExecuteTime": {
     "end_time": "2024-07-18T16:03:45.933225Z",
     "start_time": "2024-07-18T16:03:45.301472Z"
    }
   },
   "source": [
    "# normalize the data to a range of [0 1]  (just data, not labels)\n",
    "dataNorm = data / np.max(data)\n",
    "\n",
    "fig, ax = plt.subplots(1, 2, figsize=(10, 4))\n",
    "ax[0].hist(data.flatten(), bins=50)\n",
    "ax[0].set_xlabel('Pixel intensity values')\n",
    "ax[0].set_ylabel('Count')\n",
    "ax[0].set_title('Histogram of original data')\n",
    "\n",
    "ax[1].hist(dataNorm.flatten(), 50)\n",
    "ax[1].set_xlabel('Pixel intensity values')\n",
    "ax[1].set_ylabel('Count')\n",
    "ax[1].set_title('Histogram of normalized data')\n",
    "\n",
    "# set a log scale for y\n",
    "ax[0].set_yscale('log')\n",
    "ax[1].set_yscale('log')\n",
    "\n",
    "plt.show()"
   ],
   "outputs": [
    {
     "data": {
      "text/plain": [
       "<Figure size 1000x400 with 2 Axes>"
      ],
      "image/png": "[encoded data removed]"
     },
     "metadata": {},
     "output_type": "display_data"
    }
   ],
   "execution_count": 17
  },
  {
   "cell_type": "markdown",
   "metadata": {
    "id": "OhLQ2YSvpiGj"
   },
   "source": [
    "# Create train/test groups using DataLoader"
   ]
  },
  {
   "cell_type": "code",
   "metadata": {
    "id": "Y_tZ1ymVp0Sf",
    "ExecuteTime": {
     "end_time": "2024-07-18T17:06:48.586717Z",
     "start_time": "2024-07-18T17:06:48.548258Z"
    }
   },
   "source": [
    "# Step 1: convert to tensor\n",
    "dataT = torch.tensor(dataNorm).float()\n",
    "labelsT = torch.tensor(labels).long()  # long = int64\n",
    "\n",
    "# Step 2: use scikitlearn to split the data\n",
    "train_data, test_data, train_labels, test_labels = train_test_split(dataT, labelsT, test_size=.1)\n",
    "\n",
    "# Step 3: convert into PyTorch Datasets\n",
    "train_data = TensorDataset(train_data, train_labels)\n",
    "test_data = TensorDataset(test_data, test_labels)\n",
    "\n",
    "# Step 4: translate into dataloader objects\n",
    "batchsize = 32\n",
    "train_loader = DataLoader(train_data, batch_size=batchsize, shuffle=True, drop_last=True)\n",
    "test_loader = DataLoader(test_data, batch_size=test_data.tensors[0].shape[0])"
   ],
   "outputs": [],
   "execution_count": 19
  },
  {
   "cell_type": "code",
   "metadata": {
    "id": "xP3xdo2zp0YO",
    "colab": {
     "base_uri": "https://localhost:8080/"
    },
    "executionInfo": {
     "status": "ok",
     "timestamp": 1680430293777,
     "user_tz": -180,
     "elapsed": 460,
     "user": {
      "displayName": "Mike X Cohen",
      "userId": "13901636194183843661"
     }
    },
    "outputId": "ec2adbc7-27b7-4391-f0ef-8fcb333610db",
    "ExecuteTime": {
     "end_time": "2024-07-18T17:06:50.277792Z",
     "start_time": "2024-07-18T17:06:50.274170Z"
    }
   },
   "source": [
    "# check all variables in workspace\n",
    "%whos"
   ],
   "outputs": [
    {
     "name": "stdout",
     "output_type": "stream",
     "text": [
      "Variable                        Type             Data/Info\n",
      "----------------------------------------------------------\n",
      "DataLoader                      type             <class 'torch.utils.data.dataloader.DataLoader'>\n",
      "F                               module           <module 'torch.nn.functio<...>orch\\\\nn\\\\functional.py'>\n",
      "TensorDataset                   type             <class 'torch.utils.data.dataset.TensorDataset'>\n",
      "ax                              ndarray          2: 2 elems, type `object`, 16 bytes\n",
      "batchsize                       int              32\n",
      "data                            ndarray          20000x784: 15680000 elems, type `float64`, 125440000 bytes (119.62890625 Mb)\n",
      "dataNorm                        ndarray          20000x784: 15680000 elems, type `float64`, 125440000 bytes (119.62890625 Mb)\n",
      "dataT                           Tensor           tensor([[0., 0., 0.,  ...<...>, 0.,  ..., 0., 0., 0.]])\n",
      "fig                             Figure           Figure(1000x400)\n",
      "labels                          ndarray          20000: 20000 elems, type `float64`, 160000 bytes (156.25 kb)\n",
      "labelsT                         Tensor           tensor([6, 5, 7,  ..., 2, 9, 5])\n",
      "matplotlib_inline               module           <module 'matplotlib_inlin<...>lib_inline\\\\__init__.py'>\n",
      "nn                              module           <module 'torch.nn' from '<...>\\torch\\\\nn\\\\__init__.py'>\n",
      "np                              module           <module 'numpy' from 'C:\\<...>ges\\\\numpy\\\\__init__.py'>\n",
      "plt                             module           <module 'matplotlib.pyplo<...>\\\\matplotlib\\\\pyplot.py'>\n",
      "pydev_jupyter_vars              module           <module 'pydev_jupyter_va<...>\\\\pydev_jupyter_vars.py'>\n",
      "remove_imported_pydev_package   function         <function remove_imported<...>ge at 0x000001C60EC9FA60>\n",
      "sys                             module           <module 'sys' (built-in)>\n",
      "test_data                       TensorDataset    <torch.utils.data.dataset<...>ct at 0x000001C67B5D7440>\n",
      "test_labels                     Tensor           tensor([7, 3, 1,  ..., 6, 6, 7])\n",
      "test_loader                     DataLoader       <torch.utils.data.dataloa<...>ct at 0x000001C6084CF9B0>\n",
      "torch                           module           <module 'torch' from 'C:\\<...>ges\\\\torch\\\\__init__.py'>\n",
      "train_data                      TensorDataset    <torch.utils.data.dataset<...>ct at 0x000001C608B780E0>\n",
      "train_labels                    Tensor           tensor([4, 2, 4,  ..., 7, 0, 2])\n",
      "train_loader                    DataLoader       <torch.utils.data.dataloa<...>ct at 0x000001C67BACDE80>\n",
      "train_test_split                function         <function train_test_split at 0x000001C67950B920>\n"
     ]
    }
   ],
   "execution_count": 20
  },
  {
   "cell_type": "markdown",
   "metadata": {
    "id": "OK8Opkhgp0bO"
   },
   "source": [
    "# Create the DL model"
   ]
  },
  {
   "cell_type": "code",
   "metadata": {
    "id": "JK3OO3tAtZkA",
    "ExecuteTime": {
     "end_time": "2024-07-18T17:15:07.999159Z",
     "start_time": "2024-07-18T17:15:07.995284Z"
    }
   },
   "source": [
    "# create a class for the model\n",
    "def createTheMNISTNet():\n",
    "    class mnistNet(nn.Module):\n",
    "        def __init__(self):\n",
    "            super().__init__()\n",
    "\n",
    "            ### input layer\n",
    "            self.input = nn.Linear(784, 64)\n",
    "\n",
    "            ### hidden layer\n",
    "            self.fc1 = nn.Linear(64, 32)\n",
    "            self.fc2 = nn.Linear(32, 32)\n",
    "\n",
    "            ### output layer\n",
    "            self.output = nn.Linear(32, 10)\n",
    "\n",
    "\n",
    "        # forward pass\n",
    "        def forward(self, x):\n",
    "            x = F.relu(self.input(x))\n",
    "            x = F.relu(self.fc1(x))\n",
    "            x = F.relu(self.fc2(x))\n",
    "            return torch.log_softmax(self.output(x), axis=1)\n",
    "            # NEW HERE: log-softmax the output, because I'm using NLLLoss instead of CrossEntropyLoss\n",
    "\n",
    "    # create the model instance\n",
    "    net = mnistNet()\n",
    "\n",
    "    # loss function\n",
    "    lossfun = nn.NLLLoss()\n",
    "\n",
    "    # optimizer\n",
    "    optimizer = torch.optim.SGD(net.parameters(), lr=.01)\n",
    "\n",
    "    return net, lossfun, optimizer"
   ],
   "outputs": [],
   "execution_count": 21
  },
  {
   "cell_type": "code",
   "metadata": {
    "id": "y6icEJcXp0el",
    "colab": {
     "base_uri": "https://localhost:8080/"
    },
    "executionInfo": {
     "status": "ok",
     "timestamp": 1680430293777,
     "user_tz": -180,
     "elapsed": 9,
     "user": {
      "displayName": "Mike X Cohen",
      "userId": "13901636194183843661"
     }
    },
    "outputId": "3a20bd42-7bb2-4462-fd84-6daee2e0f9a9",
    "ExecuteTime": {
     "end_time": "2024-07-18T17:17:08.184735Z",
     "start_time": "2024-07-18T17:17:08.180250Z"
    }
   },
   "source": [
    "# test the model with one batch\n",
    "net, lossfun, optimizer = createTheMNISTNet()\n",
    "\n",
    "X, y = next(iter(train_loader))\n",
    "yHat = net(X)\n",
    "\n",
    "# values are log-probability of each number (0-9)\n",
    "# print(torch.exp(yHat))\n",
    "\n",
    "# now let's compute the loss\n",
    "loss = lossfun(yHat, y)\n",
    "\n",
    "print('\\nLoss:', loss.item())\n",
    "# print(loss)"
   ],
   "outputs": [
    {
     "name": "stdout",
     "output_type": "stream",
     "text": [
      "\n",
      "Loss: 2.3238508701324463\n"
     ]
    }
   ],
   "execution_count": 30
  },
  {
   "cell_type": "markdown",
   "metadata": {
    "id": "dvfGQIRGp0ht"
   },
   "source": [
    "# Create a function that trains the model"
   ]
  },
  {
   "cell_type": "code",
   "metadata": {
    "id": "IblJo1NCp0kl",
    "ExecuteTime": {
     "end_time": "2024-07-18T17:24:14.369659Z",
     "start_time": "2024-07-18T17:24:14.366086Z"
    }
   },
   "source": [
    "# a function that trains the model\n",
    "\n",
    "def function2trainTheModel():\n",
    "    # number of epochs\n",
    "    numepochs = 60\n",
    "\n",
    "    # create a new model\n",
    "    net, lossfun, optimizer = createTheMNISTNet()\n",
    "\n",
    "    # initialize losses\n",
    "    losses = torch.zeros(numepochs)\n",
    "    trainAcc = []\n",
    "    testAcc = []\n",
    "\n",
    "    # loop over epochs\n",
    "    for epochi in range(numepochs):\n",
    "\n",
    "        # loop over training data batches\n",
    "        batchAcc = []\n",
    "        batchLoss = []\n",
    "        for X, y in train_loader:\n",
    "            # forward pass and loss\n",
    "            yHat = net(X)\n",
    "            loss = lossfun(yHat, y)\n",
    "\n",
    "            # backprop\n",
    "            optimizer.zero_grad()\n",
    "            loss.backward()\n",
    "            optimizer.step()\n",
    "\n",
    "            # loss from this batch\n",
    "            batchLoss.append(loss.item())\n",
    "\n",
    "            # compute accuracy\n",
    "            matches = torch.argmax(yHat, axis=1) == y  # booleans (false/true)\n",
    "            matchesNumeric = matches.float()  # convert to numbers (0/1)\n",
    "            accuracyPct = 100 * torch.mean(matchesNumeric)  # average and x100\n",
    "            batchAcc.append(accuracyPct)  # add to list of accuracies\n",
    "        # end of batch loop...\n",
    "\n",
    "        # now that we've trained through the batches, get their average training accuracy\n",
    "        trainAcc.append(np.mean(batchAcc))\n",
    "\n",
    "        # and get average losses across the batches\n",
    "        losses[epochi] = np.mean(batchLoss)\n",
    "\n",
    "        # test accuracy\n",
    "        X, y = next(iter(test_loader))  # extract X,y from test dataloader\n",
    "        yHat = net(X)\n",
    "\n",
    "        # compare the following really long line of code to the training accuracy lines\n",
    "        testAcc.append(100 * torch.mean((torch.argmax(yHat, axis=1) == y).float()))\n",
    "\n",
    "    # end epochs\n",
    "\n",
    "    # function output\n",
    "    return trainAcc, testAcc, losses, net\n"
   ],
   "outputs": [],
   "execution_count": 31
  },
  {
   "cell_type": "markdown",
   "metadata": {
    "id": "XpGm9xdQ27Ob"
   },
   "source": [
    "# Run the model and show the results!"
   ]
  },
  {
   "cell_type": "code",
   "metadata": {
    "id": "l9pCC1R2p0nu",
    "ExecuteTime": {
     "end_time": "2024-07-18T17:24:50.842072Z",
     "start_time": "2024-07-18T17:24:16.624754Z"
    }
   },
   "source": "trainAcc, testAcc, losses, net = function2trainTheModel()\n",
   "outputs": [],
   "execution_count": 32
  },
  {
   "cell_type": "code",
   "metadata": {
    "id": "gHzKOZjnp0qn",
    "colab": {
     "base_uri": "https://localhost:8080/",
     "height": 491
    },
    "executionInfo": {
     "status": "ok",
     "timestamp": 1680430337920,
     "user_tz": -180,
     "elapsed": 431,
     "user": {
      "displayName": "Mike X Cohen",
      "userId": "13901636194183843661"
     }
    },
    "outputId": "4c7bad0e-ddc7-4686-f8c1-12d36e3f0aa4",
    "ExecuteTime": {
     "end_time": "2024-07-18T17:25:08.111831Z",
     "start_time": "2024-07-18T17:25:08.010773Z"
    }
   },
   "source": [
    "fig, ax = plt.subplots(1, 2, figsize=(16, 5))\n",
    "\n",
    "ax[0].plot(losses)\n",
    "ax[0].set_xlabel('Epochs')\n",
    "ax[0].set_ylabel('Loss')\n",
    "ax[0].set_ylim([0, 3])\n",
    "ax[0].set_title('Model loss')\n",
    "\n",
    "ax[1].plot(trainAcc, label='Train')\n",
    "ax[1].plot(testAcc, label='Test')\n",
    "ax[1].set_xlabel('Epochs')\n",
    "ax[1].set_ylabel('Accuracy (%)')\n",
    "ax[1].set_ylim([10, 100])\n",
    "ax[1].set_title(f'Final model test accuracy: {testAcc[-1]:.2f}%')\n",
    "ax[1].legend()\n",
    "\n",
    "plt.show()"
   ],
   "outputs": [
    {
     "data": {
      "text/plain": [
       "<Figure size 1600x500 with 2 Axes>"
      ],
      "image/png": "[encoded data removed]"
     },
     "metadata": {},
     "output_type": "display_data"
    }
   ],
   "execution_count": 33
  },
  {
   "cell_type": "markdown",
   "metadata": {
    "id": "pG7_3tYbp0wm"
   },
   "source": [
    "# Inspect the results in more detail"
   ]
  },
  {
   "cell_type": "code",
   "metadata": {
    "id": "-k-ZCNib7wqk",
    "colab": {
     "base_uri": "https://localhost:8080/"
    },
    "executionInfo": {
     "status": "ok",
     "timestamp": 1680430337921,
     "user_tz": -180,
     "elapsed": 10,
     "user": {
      "displayName": "Mike X Cohen",
      "userId": "13901636194183843661"
     }
    },
    "outputId": "15897ee5-66c6-4fff-8f96-027459e64273",
    "ExecuteTime": {
     "end_time": "2024-07-18T17:32:22.993960Z",
     "start_time": "2024-07-18T17:32:22.980245Z"
    }
   },
   "source": [
    "# run the model through for the test data\n",
    "X, y = next(iter(test_loader))\n",
    "predictions = net(X).detach()\n",
    "\n",
    "print(predictions[0].tolist())\n",
    "\n",
    "# back to probabilities\n",
    "print(\"\\nBack to probabilities: \\n\", torch.exp(predictions[0]).tolist())\n",
    "print()\n",
    "for lab, pred in enumerate(predictions[0]):\n",
    "    print(f'Number {lab} has probability {torch.exp(pred).item():.6f}')\n",
    "      "
   ],
   "outputs": [
    {
     "name": "stdout",
     "output_type": "stream",
     "text": [
      "[-15.902809143066406, -12.890345573425293, -8.029147148132324, -8.83289623260498, -24.059213638305664, -26.001005172729492, -32.18796920776367, -0.0005735897575505078, -11.230809211730957, -9.363465309143066]\n",
      "\n",
      "Back to probabilities: \n",
      " [1.2402172444581083e-07, 2.522284376027528e-06, 0.00032582596759311855, 0.0001458551996620372, 3.55808472962682e-11, 5.10395588640411e-12, 1.0494036873200455e-14, 0.9994266033172607, 1.3259328625281341e-05, 8.580225403420627e-05]\n",
      "\n",
      "Number 0 has probability 0.000000\n",
      "Number 1 has probability 0.000003\n",
      "Number 2 has probability 0.000326\n",
      "Number 3 has probability 0.000146\n",
      "Number 4 has probability 0.000000\n",
      "Number 5 has probability 0.000000\n",
      "Number 6 has probability 0.000000\n",
      "Number 7 has probability 0.999427\n",
      "Number 8 has probability 0.000013\n",
      "Number 9 has probability 0.000086\n"
     ]
    }
   ],
   "execution_count": 48
  },
  {
   "cell_type": "code",
   "metadata": {
    "id": "Sj8joXee78pb",
    "colab": {
     "base_uri": "https://localhost:8080/",
     "height": 456
    },
    "executionInfo": {
     "status": "ok",
     "timestamp": 1680430876629,
     "user_tz": -180,
     "elapsed": 971,
     "user": {
      "displayName": "Mike X Cohen",
      "userId": "13901636194183843661"
     }
    },
    "outputId": "5abec66f-1d8e-44e0-daca-0d94d359c256"
   },
   "source": [
    "# Evidence for all numbers from one sample\n",
    "sample2show = 120\n",
    "\n",
    "plt.bar(range(10), predictions[sample2show])  # try adding exp!\n",
    "plt.xticks(range(10))\n",
    "plt.xlabel('Number')\n",
    "plt.ylabel('Evidence for that number')\n",
    "plt.title('True number was %s' % y[sample2show].item())\n",
    "plt.show()"
   ],
   "outputs": [],
   "execution_count": null
  },
  {
   "cell_type": "code",
   "metadata": {
    "id": "qw56zhmj87WC",
    "colab": {
     "base_uri": "https://localhost:8080/",
     "height": 627
    },
    "executionInfo": {
     "status": "ok",
     "timestamp": 1680430338563,
     "user_tz": -180,
     "elapsed": 382,
     "user": {
      "displayName": "Mike X Cohen",
      "userId": "13901636194183843661"
     }
    },
    "outputId": "cdb21c59-ca55-4b3d-b9b3-cea7a287628e"
   },
   "source": [
    "# find the errors\n",
    "errors = np.where(torch.max(predictions, axis=1)[1] != y)[0]\n",
    "print(errors)\n",
    "\n",
    "# Evidence for all numbers from one sample\n",
    "sample2show = 10\n",
    "\n",
    "fig, ax = plt.subplots(1, 2, figsize=(14, 5))\n",
    "\n",
    "ax[0].bar(range(10), np.exp(predictions[errors[sample2show]]))\n",
    "ax[0].set_xticks(range(10))\n",
    "ax[0].set_xlabel('Number')\n",
    "ax[0].set_ylabel('Evidence for that number')\n",
    "ax[0].set_title('True number: %s, model guessed %s'\n",
    "                % (y[errors[sample2show]].item(), torch.argmax(predictions[errors[sample2show]]).item()))\n",
    "\n",
    "ax[1].imshow(np.reshape(X[errors[sample2show], :], (28, 28)), cmap='gray')\n",
    "\n",
    "plt.show()"
   ],
   "outputs": [],
   "execution_count": null
  },
  {
   "cell_type": "code",
   "metadata": {
    "id": "9SnUUHPm7xQE"
   },
   "source": [],
   "outputs": [],
   "execution_count": null
  },
  {
   "cell_type": "markdown",
   "metadata": {
    "id": "Uh28k_l29urR"
   },
   "source": [
    "# Additional explorations"
   ]
  },
  {
   "cell_type": "code",
   "metadata": {
    "id": "ib3uQtfv9wE2"
   },
   "source": [
    "# 1) Average together the correct 7's and the error 7's, and make images of them (that is, one image\n",
    "#    of all correct 7's and one image of all incorrectly labeled 7's). How do they look?\n",
    "# \n",
    "# 2) Repeat #1 for all numbers to produce a 2x10 matrix of images with corrects on top\n",
    "#    and errors on the bottom.\n",
    "# \n",
    "# 3) Identify \"almost errors,\" which we can define as correct categorizations that had a probability of\n",
    "#    e.g., >.1 for any other number. Make images of some of these numbers. Can you understand why the model\n",
    "#    was confused?\n",
    "# \n",
    "# 4) I didn't use .train(), .eval(), or no_grad() here. Is that a problem? Can you add those in without checking\n",
    "#    other notebooks?\n",
    "# "
   ],
   "outputs": [],
   "execution_count": null
  }
 ]
}
