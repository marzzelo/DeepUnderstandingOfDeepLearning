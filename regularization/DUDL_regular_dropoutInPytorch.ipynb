{
 "cells": [
  {
   "cell_type": "markdown",
   "metadata": {
    "id": "bhWV8oes-wKR"
   },
   "source": [
    "# COURSE: A deep understanding of deep learning\n",
    "## SECTION: Regularization\n",
    "### LECTURE: Dropout regularization in practice\n",
    "#### TEACHER: Mike X Cohen, sincxpress.com\n",
    "##### COURSE URL: udemy.com/course/deeplearning_x/?couponCode=202305"
   ]
  },
  {
   "cell_type": "code",
   "execution_count": 14,
   "metadata": {
    "id": "YeuAheYyhdZw"
   },
   "outputs": [],
   "source": [
    "# import libraries\n",
    "import torch\n",
    "import torch.nn as nn\n",
    "import torch.nn.functional as F"
   ]
  },
  {
   "cell_type": "markdown",
   "metadata": {
    "id": "OAw7w-Is8quO"
   },
   "source": [
    "# Using dropout"
   ]
  },
  {
   "cell_type": "code",
   "execution_count": 15,
   "metadata": {
    "id": "PakwZXu08s6B"
   },
   "outputs": [
    {
     "data": {
      "text/plain": [
       "[tensor([2., 0., 0., 0., 0., 2., 0., 2., 2., 2.]),\n",
       " tensor([0., 0., 2., 2., 0., 2., 0., 0., 2., 0.]),\n",
       " tensor([2., 2., 2., 0., 2., 2., 2., 2., 0., 0.]),\n",
       " tensor([0., 2., 2., 2., 2., 2., 0., 0., 2., 0.]),\n",
       " tensor([0., 2., 2., 0., 0., 2., 0., 0., 2., 2.])]"
      ]
     },
     "execution_count": 15,
     "metadata": {},
     "output_type": "execute_result"
    }
   ],
   "source": [
    "# define a dropout instance and make some data\n",
    "prob = .5\n",
    "\n",
    "dropout = nn.Dropout(p=prob)\n",
    "x = torch.ones(10)\n",
    "\n",
    "# let's see what dropout returns\n",
    "y = dropout(x)\n",
    "# print(x)\n",
    "# print(y*(1-prob))\n",
    "# print(torch.mean(y))\n",
    "\n",
    "# --- MAV ---\n",
    "dropped = []\n",
    "for i in range(1000):\n",
    "\tdropped.append(dropout(x))\n",
    " \n",
    "# first 5 rows of dropped\n",
    "dropped[:5]\n",
    "# --- MAV ---"
   ]
  },
  {
   "cell_type": "code",
   "execution_count": 16,
   "metadata": {},
   "outputs": [
    {
     "name": "stdout",
     "output_type": "stream",
     "text": [
      "tensor([1.0280, 0.9900, 1.0380, 1.0240, 0.9540, 1.0420, 0.9940, 1.0340, 1.0720,\n",
      "        0.9920])\n",
      "tensor(1.0168)\n"
     ]
    }
   ],
   "source": [
    "# --- MAV ---\n",
    "# mean of dropped\n",
    "print(torch.mean(torch.stack(dropped), dim=0))\n",
    "\n",
    "# mean of mean of dropped\n",
    "print(torch.mean(torch.mean(torch.stack(dropped), dim=0)))\n",
    "# --- END MAV ---"
   ]
  },
  {
   "cell_type": "code",
   "execution_count": 27,
   "metadata": {
    "id": "hnsHnDFjVQ6i"
   },
   "outputs": [
    {
     "name": "stdout",
     "output_type": "stream",
     "text": [
      "tensor([1., 1., 1., 1., 1., 1., 1., 1., 1., 1.])\n",
      "tensor(1.)\n"
     ]
    }
   ],
   "source": [
    "# dropout is turned off when evaluating the model\n",
    "dropout.eval()\n",
    "y = dropout(x)\n",
    "print(y)\n",
    "print(torch.mean(y))"
   ]
  },
  {
   "cell_type": "code",
   "execution_count": 28,
   "metadata": {
    "id": "5bY95mSjVYvA"
   },
   "outputs": [
    {
     "name": "stdout",
     "output_type": "stream",
     "text": [
      "tensor([2., 2., 2., 0., 0., 0., 0., 0., 0., 2.])\n",
      "tensor(0.8000)\n"
     ]
    }
   ],
   "source": [
    "# annoyingly, F.dropout() is not deactivated in eval mode:\n",
    "dropout.eval()\n",
    "y = F.dropout(x)\n",
    "print(y)\n",
    "print(torch.mean(y))"
   ]
  },
  {
   "cell_type": "code",
   "execution_count": 19,
   "metadata": {
    "id": "Aa-GvWSLXcH8"
   },
   "outputs": [
    {
     "name": "stdout",
     "output_type": "stream",
     "text": [
      "tensor([1., 1., 1., 1., 1., 1., 1., 1., 1., 1.])\n",
      "tensor(1.)\n"
     ]
    }
   ],
   "source": [
    "# but you can manually switch it off\n",
    "# dropout.eval()\n",
    "y = F.dropout(x,training=False)\n",
    "\n",
    "print(y)\n",
    "print(torch.mean(y))"
   ]
  },
  {
   "cell_type": "code",
   "execution_count": 20,
   "metadata": {
    "id": "J_BFJYeTU_ak"
   },
   "outputs": [
    {
     "name": "stdout",
     "output_type": "stream",
     "text": [
      "tensor([2., 2., 2., 2., 0., 0., 2., 2., 0., 2.])\n",
      "tensor([1., 1., 1., 1., 1., 1., 1., 1., 1., 1.])\n",
      "tensor([1., 1., 1., 1., 1., 1., 1., 1., 1., 1.])\n"
     ]
    }
   ],
   "source": [
    "# the model needs to be reset (to train) after toggling into eval mode\n",
    "\n",
    "dropout.train()\n",
    "y = dropout(x)\n",
    "print(y) # with dropout\n",
    "\n",
    "\n",
    "dropout.eval()\n",
    "y = dropout(x)\n",
    "print(y) # without dropout\n",
    "\n",
    "\n",
    "# dropout.train()\n",
    "y = dropout(x)\n",
    "print(y) # still w/o dropout ;)"
   ]
  },
  {
   "cell_type": "code",
   "execution_count": null,
   "metadata": {
    "id": "eVXa_1zZkvbm"
   },
   "outputs": [],
   "source": []
  }
 ],
 "metadata": {
  "colab": {
   "authorship_tag": "ABX9TyOLdTgViM3bQDslDQDqBhQV",
   "collapsed_sections": [],
   "name": "DUDL_regular_dropoutInPytorch.ipynb",
   "provenance": [
    {
     "file_id": "17KCLWj5_rIPAJqSQ1dJFAkSrJ7ctDwne",
     "timestamp": 1616945891013
    },
    {
     "file_id": "1bv1_y32e3KEExFKKlPfC3rpw1JxmBr8H",
     "timestamp": 1616941708388
    },
    {
     "file_id": "1GMq8u7KyHB2AE7Teyls9gK1T01OduQSn",
     "timestamp": 1616697516760
    },
    {
     "file_id": "1Ui3kyHim-e0XLgDs2mkBxVlYg7TKYtcg",
     "timestamp": 1616615469755
    },
    {
     "file_id": "1YpHocGI4rApOxIBb1ZghCU5L-hFnv4CK",
     "timestamp": 1616608248670
    }
   ]
  },
  "kernelspec": {
   "display_name": "Python 3",
   "name": "python3"
  },
  "language_info": {
   "codemirror_mode": {
    "name": "ipython",
    "version": 3
   },
   "file_extension": ".py",
   "mimetype": "text/x-python",
   "name": "python",
   "nbconvert_exporter": "python",
   "pygments_lexer": "ipython3",
   "version": "3.9.13"
  }
 },
 "nbformat": 4,
 "nbformat_minor": 0
}
