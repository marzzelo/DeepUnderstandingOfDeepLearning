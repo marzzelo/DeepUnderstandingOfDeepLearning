{
 "cells": [
  {
   "cell_type": "markdown",
   "metadata": {
    "id": "bhWV8oes-wKR"
   },
   "source": [
    "# COURSE: A deep understanding of deep learning\n",
    "## SECTION: ANNs\n",
    "### LECTURE: Depth vs. breadth: number of parameters\n",
    "#### TEACHER: Mike X Cohen, sincxpress.com\n",
    "##### COURSE URL: udemy.com/course/deeplearning_x/?couponCode=202305"
   ]
  },
  {
   "cell_type": "code",
   "execution_count": 1,
   "metadata": {
    "id": "j7-LiwqUMGYL"
   },
   "outputs": [],
   "source": [
    "# import libraries\n",
    "import numpy as np\n",
    "import torch\n",
    "import torch.nn as nn"
   ]
  },
  {
   "cell_type": "code",
   "execution_count": 2,
   "metadata": {
    "id": "krQeh5wYMNla"
   },
   "outputs": [
    {
     "name": "stdout",
     "output_type": "stream",
     "text": [
      "Sequential(\n",
      "  (0): Linear(in_features=2, out_features=4, bias=True)\n",
      "  (1): Linear(in_features=4, out_features=3, bias=True)\n",
      ")\n",
      " \n",
      "Sequential(\n",
      "  (0): Linear(in_features=2, out_features=2, bias=True)\n",
      "  (1): Linear(in_features=2, out_features=2, bias=True)\n",
      "  (2): Linear(in_features=2, out_features=3, bias=True)\n",
      ")\n"
     ]
    }
   ],
   "source": [
    "# build two models\n",
    "\n",
    "widenet = nn.Sequential(\n",
    "    nn.Linear(2,4),  # hidden layer\n",
    "    nn.Linear(4,3),  # output layer\n",
    "    )\n",
    "\n",
    "\n",
    "deepnet = nn.Sequential(\n",
    "    nn.Linear(2,2),  # hidden layer\n",
    "    nn.Linear(2,2),  # hidden layer\n",
    "    nn.Linear(2,3),  # output layer\n",
    "    )\n",
    "\n",
    "# print them out to have a look\n",
    "print(widenet)\n",
    "print(' ')\n",
    "print(deepnet)"
   ]
  },
  {
   "cell_type": "code",
   "execution_count": 3,
   "metadata": {
    "id": "Rv5g3ISypDNk"
   },
   "outputs": [
    {
     "data": {
      "text/plain": [
       "<generator object Module.named_parameters at 0x0000000016D7AC80>"
      ]
     },
     "execution_count": 3,
     "metadata": {},
     "output_type": "execute_result"
    }
   ],
   "source": [
    "widenet.named_parameters()"
   ]
  },
  {
   "cell_type": "markdown",
   "metadata": {
    "id": "ni8L4jRgopMO"
   },
   "source": [
    "# Peeking inside the network"
   ]
  },
  {
   "cell_type": "code",
   "execution_count": 4,
   "metadata": {
    "id": "lrKmii4Xmx-Z"
   },
   "outputs": [
    {
     "name": "stdout",
     "output_type": "stream",
     "text": [
      "('0.weight', Parameter containing:\n",
      "tensor([[-0.1909,  0.4930],\n",
      "        [-0.0918,  0.2575]], requires_grad=True))\n",
      " \n",
      "('0.bias', Parameter containing:\n",
      "tensor([-0.4873,  0.4204], requires_grad=True))\n",
      " \n",
      "('1.weight', Parameter containing:\n",
      "tensor([[ 0.2342, -0.3244],\n",
      "        [-0.6219,  0.6918]], requires_grad=True))\n",
      " \n",
      "('1.bias', Parameter containing:\n",
      "tensor([-0.4375,  0.0925], requires_grad=True))\n",
      " \n",
      "('2.weight', Parameter containing:\n",
      "tensor([[ 0.1869, -0.0593],\n",
      "        [-0.2409,  0.6335],\n",
      "        [ 0.5335, -0.0635]], requires_grad=True))\n",
      " \n",
      "('2.bias', Parameter containing:\n",
      "tensor([ 0.0561, -0.0464, -0.6577], requires_grad=True))\n",
      " \n"
     ]
    }
   ],
   "source": [
    "# check out the parameters\n",
    "for p in deepnet.named_parameters():\n",
    "  print(p)\n",
    "  print(' ')"
   ]
  },
  {
   "cell_type": "code",
   "execution_count": 5,
   "metadata": {
    "id": "I811amwtouaY"
   },
   "outputs": [
    {
     "name": "stdout",
     "output_type": "stream",
     "text": [
      "There are 7 nodes in the wide network.\n",
      "There are 7 nodes in the deep network.\n"
     ]
    }
   ],
   "source": [
    "# count the number of nodes ( = the number of biases)\n",
    "\n",
    "# named_parameters() is an iterable that returns the tuple (name,numbers)\n",
    "numNodesInWide = 0\n",
    "for p in widenet.named_parameters():  # p = (paramName, paramVect)\n",
    "  if 'bias' in p[0]:\n",
    "    numNodesInWide += len(p[1]) \n",
    "\n",
    "numNodesInDeep = 0\n",
    "for paramName,paramVect in deepnet.named_parameters():\n",
    "  if 'bias' in paramName:\n",
    "    numNodesInDeep += len(paramVect)\n",
    "\n",
    "\n",
    "print('There are %s nodes in the wide network.' %numNodesInWide)\n",
    "print('There are %s nodes in the deep network.' %numNodesInDeep)"
   ]
  },
  {
   "cell_type": "code",
   "execution_count": 6,
   "metadata": {
    "id": "FVuYUMy7spW9"
   },
   "outputs": [
    {
     "name": "stdout",
     "output_type": "stream",
     "text": [
      "Parameter containing:\n",
      "tensor([[ 0.6969,  0.6295],\n",
      "        [-0.6807, -0.6436],\n",
      "        [ 0.5972,  0.3059],\n",
      "        [-0.1200, -0.4485]], requires_grad=True)\n",
      " \n",
      "Parameter containing:\n",
      "tensor([ 0.2884, -0.0293, -0.4389, -0.1089], requires_grad=True)\n",
      " \n",
      "Parameter containing:\n",
      "tensor([[ 0.2303,  0.0314,  0.1269, -0.3146],\n",
      "        [ 0.0973,  0.1853,  0.0773, -0.2832],\n",
      "        [-0.0029,  0.0504, -0.0743, -0.1454]], requires_grad=True)\n",
      " \n",
      "Parameter containing:\n",
      "tensor([ 0.4835, -0.1969,  0.4246], requires_grad=True)\n",
      " \n"
     ]
    }
   ],
   "source": [
    "# just the parameters\n",
    "for p in widenet.parameters():\n",
    "  print(p)\n",
    "  print(' ')"
   ]
  },
  {
   "cell_type": "code",
   "execution_count": 7,
   "metadata": {
    "id": "xtTwxsVhirEq"
   },
   "outputs": [
    {
     "name": "stdout",
     "output_type": "stream",
     "text": [
      "This piece has 8 parameters\n",
      "This piece has 4 parameters\n",
      "This piece has 12 parameters\n",
      "This piece has 3 parameters\n",
      "\n",
      "\n",
      "Total of 27 parameters\n"
     ]
    }
   ],
   "source": [
    "# now count the total number of trainable parameters\n",
    "nparams = 0\n",
    "for p in widenet.parameters():\n",
    "  if p.requires_grad:\n",
    "    print('This piece has %s parameters' %p.numel())\n",
    "    nparams += p.numel()\n",
    "\n",
    "print('\\n\\nTotal of %s parameters'%nparams)"
   ]
  },
  {
   "cell_type": "code",
   "execution_count": null,
   "metadata": {
    "id": "PKr2ARdWivz8"
   },
   "outputs": [],
   "source": [
    "# btw, can also use list comprehension\n",
    "\n",
    "nparams = np.sum([ p.numel() for p in widenet.parameters() if p.requires_grad ])\n",
    "print('Widenet has %s parameters'%nparams)\n",
    "\n",
    "nparams = np.sum([ p.numel() for p in deepnet.parameters() if p.requires_grad ])\n",
    "print('Deepnet has %s parameters'%nparams)"
   ]
  },
  {
   "cell_type": "code",
   "execution_count": null,
   "metadata": {
    "id": "I9wsTcbrrYT7"
   },
   "outputs": [],
   "source": []
  },
  {
   "cell_type": "code",
   "execution_count": null,
   "metadata": {
    "id": "_6GzhyxLUrYy"
   },
   "outputs": [],
   "source": [
    "# A nice simple way to print out the model info.\n",
    "from torchsummary import summary\n",
    "summary(widenet,(1,2))\n",
    "\n",
    "\n",
    "### NOTE ABOUT THE CODE IN THIS CELL:\n",
    "# torchsummary is being replaced by torchinfo.\n",
    "# If you are importing these libraries on your own (via pip), then see the following website:\n",
    "#        https://pypi.org/project/torch-summary/\n",
    "# However, torchsummary will continue to be supported, so if the code in this cell works (meaning torchsummary is already installed), \n",
    "# then you don't need to do anything!"
   ]
  },
  {
   "cell_type": "code",
   "execution_count": null,
   "metadata": {
    "id": "KHlWL3_drYhT"
   },
   "outputs": [],
   "source": []
  }
 ],
 "metadata": {
  "colab": {
   "authorship_tag": "ABX9TyNp0/OYNZqgbUCz8Xrl2dyW",
   "collapsed_sections": [],
   "name": "DUDL_ANN_numParameters.ipynb",
   "provenance": [
    {
     "file_id": "1Q_oDw0aMA4QFKDnLxuqJp62P8oPMtO1R",
     "timestamp": 1618255245074
    },
    {
     "file_id": "1FtQ99beHYcDFDywLdaPgFm-KjBeI8PvD",
     "timestamp": 1615884593383
    }
   ]
  },
  "kernelspec": {
   "display_name": "Python 3.8.10 64-bit",
   "language": "python",
   "name": "python3"
  },
  "language_info": {
   "codemirror_mode": {
    "name": "ipython",
    "version": 3
   },
   "file_extension": ".py",
   "mimetype": "text/x-python",
   "name": "python",
   "nbconvert_exporter": "python",
   "pygments_lexer": "ipython3",
   "version": "3.8.10"
  },
  "vscode": {
   "interpreter": {
    "hash": "570feb405e2e27c949193ac68f46852414290d515b0ba6e5d90d076ed2284471"
   }
  }
 },
 "nbformat": 4,
 "nbformat_minor": 0
}
