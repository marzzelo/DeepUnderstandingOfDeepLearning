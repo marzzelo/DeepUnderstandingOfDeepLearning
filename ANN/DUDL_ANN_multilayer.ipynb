{
 "cells": [
  {
   "cell_type": "markdown",
   "metadata": {
    "id": "bhWV8oes-wKR"
   },
   "source": [
    "# COURSE: A deep understanding of deep learning\n",
    "## SECTION: ANNs\n",
    "### LECTURE: Multilayer ANNs\n",
    "#### TEACHER: Mike X Cohen, sincxpress.com\n",
    "##### COURSE URL: udemy.com/course/deeplearning_x/?couponCode=202305"
   ]
  },
  {
   "cell_type": "code",
   "execution_count": 12,
   "metadata": {
    "id": "j7-LiwqUMGYL"
   },
   "outputs": [],
   "source": [
    "# import libraries\n",
    "import torch\n",
    "import torch.nn as nn\n",
    "import matplotlib.pyplot as plt\n",
    "import numpy as np"
   ]
  },
  {
   "cell_type": "code",
   "execution_count": 13,
   "metadata": {
    "id": "j-SP8NPsMNRL"
   },
   "outputs": [
    {
     "data": {
      "image/png": "[encoded data removed]",
      "text/plain": [
       "<Figure size 360x360 with 1 Axes>"
      ]
     },
     "metadata": {
      "needs_background": "light"
     },
     "output_type": "display_data"
    }
   ],
   "source": [
    "# create data\n",
    "\n",
    "nPerClust = 100\n",
    "blur = 1\n",
    "\n",
    "A = [  1,  3 ]\n",
    "B = [  1, -2 ]\n",
    "\n",
    "# generate data\n",
    "a = [ A[0]+np.random.randn(nPerClust)*blur , A[1]+np.random.randn(nPerClust)*blur ]\n",
    "b = [ B[0]+np.random.randn(nPerClust)*blur , B[1]+np.random.randn(nPerClust)*blur ]\n",
    "\n",
    "# true labels\n",
    "labels_np = np.vstack((np.zeros((nPerClust,1)),np.ones((nPerClust,1))))\n",
    "\n",
    "# concatanate into a matrix\n",
    "data_np = np.hstack((a,b)).T\n",
    "\n",
    "# convert to a pytorch tensor\n",
    "data = torch.tensor(data_np).float()\n",
    "labels = torch.tensor(labels_np).float()\n",
    "\n",
    "# show the data\n",
    "fig = plt.figure(figsize=(5,5))\n",
    "plt.plot(data[np.where(labels==0)[0],0],data[np.where(labels==0)[0],1],'bs')\n",
    "plt.plot(data[np.where(labels==1)[0],0],data[np.where(labels==1)[0],1],'ko')\n",
    "plt.title('The qwerties!')\n",
    "plt.xlabel('qwerty dimension 1')\n",
    "plt.ylabel('qwerty dimension 2')\n",
    "plt.show()"
   ]
  },
  {
   "cell_type": "markdown",
   "metadata": {
    "id": "7Oi0wAb5ze3Q"
   },
   "source": [
    "# Functions to build and train the model"
   ]
  },
  {
   "cell_type": "code",
   "execution_count": 14,
   "metadata": {
    "id": "krQeh5wYMNla"
   },
   "outputs": [],
   "source": [
    "def createANNmodel(learningRate):\n",
    "\n",
    "    # model architecture\n",
    "    ANNclassify = nn.Sequential(\n",
    "        nn.Linear(2,16),  # input layer\n",
    "        # nn.ReLU(),        # activation unit\n",
    "        nn.Linear(16,1),  # hidden layer\n",
    "        # nn.ReLU(),        # activation unit\n",
    "        nn.Linear(1,1),   # output unit\n",
    "        nn.Sigmoid(),     # final activation unit\n",
    "    )\n",
    "\n",
    "    # loss function\n",
    "    lossfun = nn.BCELoss() # but better to use BCEWithLogitsLoss\n",
    "\n",
    "    # optimizer\n",
    "    optimizer = torch.optim.SGD(ANNclassify.parameters(),lr=learningRate)\n",
    "\n",
    "    # model output\n",
    "    return ANNclassify,lossfun,optimizer"
   ]
  },
  {
   "cell_type": "code",
   "execution_count": 15,
   "metadata": {
    "id": "of9E8ClxMNsD"
   },
   "outputs": [],
   "source": [
    "# a function that trains the model\n",
    "\n",
    "# a fixed parameter\n",
    "numepochs = 1000\n",
    "\n",
    "def trainTheModel(ANNmodel, lossfun, optimizer, data, labels, numepochs=1000):\n",
    "\n",
    "    # initialize losses\n",
    "    losses = torch.zeros(numepochs)\n",
    "\n",
    "    # loop over epochs\n",
    "    for epochi in range(numepochs):\n",
    "\n",
    "        # forward pass\n",
    "        yHat = ANNmodel(data)\n",
    "\n",
    "        # compute loss\n",
    "        loss = lossfun(yHat,labels)\n",
    "        losses[epochi] = loss\n",
    "\n",
    "        # backprop\n",
    "        optimizer.zero_grad()\n",
    "        loss.backward()\n",
    "        optimizer.step()\n",
    "\n",
    "\n",
    "\n",
    "    # final forward pass\n",
    "    predictions = ANNmodel(data)\n",
    "\n",
    "    # compute the predictions and report accuracy\n",
    "    # NOTE: Wasn't this \">0\" previously?!?!\n",
    "    totalacc = 100*torch.mean(((predictions>.5) == labels).float())\n",
    "\n",
    "    return losses,predictions,totalacc"
   ]
  },
  {
   "cell_type": "markdown",
   "metadata": {
    "id": "Hd3rIbQUzkKv"
   },
   "source": [
    "# Test the new code by running it once"
   ]
  },
  {
   "cell_type": "code",
   "execution_count": 16,
   "metadata": {
    "id": "SatsWGs3x6Kg"
   },
   "outputs": [
    {
     "name": "stdout",
     "output_type": "stream",
     "text": [
      "Final accuracy: 99.5%\n"
     ]
    },
    {
     "data": {
      "image/png": "[encoded data removed]",
      "text/plain": [
       "<Figure size 432x288 with 1 Axes>"
      ]
     },
     "metadata": {
      "needs_background": "light"
     },
     "output_type": "display_data"
    }
   ],
   "source": [
    "# create everything\n",
    "ANNclassify,lossfun,optimizer = createANNmodel(.01)\n",
    "\n",
    "# run it\n",
    "losses,predictions,totalacc = trainTheModel(ANNclassify, lossfun, optimizer, data, labels, numepochs=numepochs)\n",
    "\n",
    "# report accuracy\n",
    "print('Final accuracy: %g%%' %totalacc)\n",
    "\n",
    "\n",
    "# show the losses\n",
    "plt.plot(losses.detach(),'o',markerfacecolor='w',linewidth=.1)\n",
    "plt.xlabel('Epoch'), plt.ylabel('Loss')\n",
    "plt.show()"
   ]
  },
  {
   "cell_type": "markdown",
   "metadata": {
    "id": "GqvlfINnzojn"
   },
   "source": [
    "# Now for the real test (varying learning rates)"
   ]
  },
  {
   "cell_type": "code",
   "execution_count": 17,
   "metadata": {
    "id": "i1TCt0mpMNxC"
   },
   "outputs": [],
   "source": [
    "# learning rates\n",
    "learningrates = np.linspace(.001,.1,50)\n",
    "\n",
    "# initialize\n",
    "accByLR = []\n",
    "allLosses = np.zeros((len(learningrates),numepochs))\n",
    "\n",
    "\n",
    "# the loop \n",
    "for i,lr in enumerate(learningrates):\n",
    "  \n",
    "  # create and run the model\n",
    "  ANNclassify,lossfun,optimizer = createANNmodel(lr)\n",
    "  losses,predictions,totalacc = trainTheModel(ANNclassify, lossfun, optimizer, data, labels, numepochs=numepochs)\n",
    "\n",
    "  # store the results\n",
    "  accByLR.append(totalacc)\n",
    "  allLosses[i,:] = losses.detach()\n",
    "  print(f'- pass {i+1} of {len(learningrates)}...')\n"
   ]
  },
  {
   "cell_type": "code",
   "execution_count": 25,
   "metadata": {
    "id": "1EpSpm3klet-"
   },
   "outputs": [
    {
     "data": {
      "image/png": "[encoded data removed]",
      "text/plain": [
       "<Figure size 1152x288 with 2 Axes>"
      ]
     },
     "metadata": {
      "needs_background": "light"
     },
     "output_type": "display_data"
    }
   ],
   "source": [
    "# plot the results\n",
    "fig,ax = plt.subplots(1,2,figsize=(16,4))\n",
    "\n",
    "ax[0].plot(learningrates,accByLR,'s-')\n",
    "ax[0].set_xlabel('Learning rate')\n",
    "ax[0].set_ylabel('Accuracy')\n",
    "ax[0].set_title('Accuracy by learning rate')\n",
    "# set y axix limits\n",
    "ax[0].set_ylim([90,100])\n",
    "\n",
    "ax[1].plot(allLosses.T)\n",
    "ax[1].set_title('Losses by learning rate')\n",
    "ax[1].set_xlabel('Epoch number')\n",
    "ax[1].set_ylabel('Loss')\n",
    "plt.show()"
   ]
  },
  {
   "cell_type": "code",
   "execution_count": 19,
   "metadata": {
    "id": "-QSbPkVrWWDO"
   },
   "outputs": [
    {
     "data": {
      "text/plain": [
       "[tensor(99.5000),\n",
       " tensor(99.5000),\n",
       " tensor(99.5000),\n",
       " tensor(99.),\n",
       " tensor(99.),\n",
       " tensor(99.),\n",
       " tensor(99.5000),\n",
       " tensor(99.),\n",
       " tensor(99.5000),\n",
       " tensor(99.),\n",
       " tensor(99.),\n",
       " tensor(99.),\n",
       " tensor(99.5000),\n",
       " tensor(99.5000),\n",
       " tensor(99.5000),\n",
       " tensor(99.5000),\n",
       " tensor(99.5000),\n",
       " tensor(99.),\n",
       " tensor(99.5000),\n",
       " tensor(99.5000),\n",
       " tensor(99.5000),\n",
       " tensor(99.5000),\n",
       " tensor(99.5000),\n",
       " tensor(99.5000),\n",
       " tensor(99.5000),\n",
       " tensor(99.5000),\n",
       " tensor(99.),\n",
       " tensor(99.5000),\n",
       " tensor(99.),\n",
       " tensor(99.5000),\n",
       " tensor(99.5000),\n",
       " tensor(99.5000),\n",
       " tensor(99.5000),\n",
       " tensor(99.5000),\n",
       " tensor(99.),\n",
       " tensor(99.),\n",
       " tensor(99.),\n",
       " tensor(99.),\n",
       " tensor(99.5000),\n",
       " tensor(99.),\n",
       " tensor(99.),\n",
       " tensor(99.),\n",
       " tensor(99.),\n",
       " tensor(99.5000),\n",
       " tensor(99.),\n",
       " tensor(99.),\n",
       " tensor(99.),\n",
       " tensor(99.),\n",
       " tensor(99.),\n",
       " tensor(99.)]"
      ]
     },
     "execution_count": 19,
     "metadata": {},
     "output_type": "execute_result"
    }
   ],
   "source": [
    "accByLR"
   ]
  },
  {
   "cell_type": "code",
   "execution_count": 20,
   "metadata": {
    "id": "x_lVYxTsi871"
   },
   "outputs": [
    {
     "data": {
      "text/plain": [
       "tensor(1.)"
      ]
     },
     "execution_count": 20,
     "metadata": {},
     "output_type": "execute_result"
    }
   ],
   "source": [
    "sum(torch.tensor(accByLR)>70)/len(accByLR)"
   ]
  },
  {
   "cell_type": "code",
   "execution_count": null,
   "metadata": {
    "id": "0-CvKb-p55R6"
   },
   "outputs": [],
   "source": []
  },
  {
   "cell_type": "markdown",
   "metadata": {
    "id": "7pOwxMgY55mJ"
   },
   "source": [
    "# Additional explorations"
   ]
  },
  {
   "cell_type": "code",
   "execution_count": 21,
   "metadata": {
    "id": "0Gn2e8kw555x"
   },
   "outputs": [],
   "source": [
    "# 1) The code creates a model with 16 hidden units. Notice where the two \"16\"s appear when constructing the model. \n",
    "#    Recreate the model using 32 hidden units. Does that help with the issue of models getting stuck in local minima?\n",
    "# \n",
    "# 2) Adjust the code to create two hidden layers. The first hidden layer should have 16 hidden units and the second \n",
    "#    hidden layer shuold have 32 units. What needs to change in the code to make the numbers match to prevent coding errors?\n",
    "# "
   ]
  }
 ],
 "metadata": {
  "colab": {
   "authorship_tag": "ABX9TyMjzQjpc5VeGVRp+BqWYPxX",
   "collapsed_sections": [],
   "name": "DUDL_ANN_multilayer.ipynb",
   "provenance": [
    {
     "file_id": "1jeqKEJfI18GlAhSG8RO5aJ6Vrp4-nkTt",
     "timestamp": 1615909315432
    },
    {
     "file_id": "10_geQnah5AvMsm8VDAQwNPhypOXradar",
     "timestamp": 1615893340208
    },
    {
     "file_id": "1FtQ99beHYcDFDywLdaPgFm-KjBeI8PvD",
     "timestamp": 1615877547147
    }
   ]
  },
  "kernelspec": {
   "display_name": "Python 3.8.10 64-bit",
   "language": "python",
   "name": "python3"
  },
  "language_info": {
   "codemirror_mode": {
    "name": "ipython",
    "version": 3
   },
   "file_extension": ".py",
   "mimetype": "text/x-python",
   "name": "python",
   "nbconvert_exporter": "python",
   "pygments_lexer": "ipython3",
   "version": "3.8.10"
  },
  "vscode": {
   "interpreter": {
    "hash": "570feb405e2e27c949193ac68f46852414290d515b0ba6e5d90d076ed2284471"
   }
  }
 },
 "nbformat": 4,
 "nbformat_minor": 0
}
