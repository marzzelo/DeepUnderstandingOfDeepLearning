{
 "cells": [
  {
   "cell_type": "code",
   "execution_count": 2,
   "metadata": {},
   "outputs": [],
   "source": [
    "import numpy as np\n",
    "import pandas as pd"
   ]
  },
  {
   "cell_type": "code",
   "execution_count": 3,
   "metadata": {},
   "outputs": [],
   "source": [
    "listlist = [4, 'hi', [5, 4, 3], 'yo', {'Squirrel': 'Cute', 'Dog': 'Loyal', 'Penguin': 'Yummy'}]"
   ]
  },
  {
   "cell_type": "code",
   "execution_count": 4,
   "metadata": {},
   "outputs": [
    {
     "name": "stdout",
     "output_type": "stream",
     "text": [
      "Yummy\n"
     ]
    }
   ],
   "source": [
    "penguin = listlist[4]['Penguin']\n",
    "penguin2 = listlist[4].get('Penguin')\n",
    "\n",
    "print(penguin2)"
   ]
  },
  {
   "cell_type": "code",
   "execution_count": 5,
   "metadata": {},
   "outputs": [
    {
     "data": {
      "text/plain": [
       "[0, 1, 2, 3, 4, 5, 6, 7, 8, 9, 10]"
      ]
     },
     "execution_count": 5,
     "metadata": {},
     "output_type": "execute_result"
    }
   ],
   "source": [
    "a = list(range(11))\n",
    "a"
   ]
  },
  {
   "cell_type": "code",
   "execution_count": 6,
   "metadata": {},
   "outputs": [
    {
     "data": {
      "text/plain": [
       "[3, 4, 5, 6, 7, 8, 9, 10]"
      ]
     },
     "execution_count": 6,
     "metadata": {},
     "output_type": "execute_result"
    }
   ],
   "source": [
    "a[3:23]"
   ]
  },
  {
   "cell_type": "code",
   "execution_count": 7,
   "metadata": {},
   "outputs": [
    {
     "name": "stdout",
     "output_type": "stream",
     "text": [
      "marcelovaldez\n"
     ]
    }
   ],
   "source": [
    "text = \"asdzedlavolecram345w\"\n",
    "name = text[15:2:-1] \n",
    "name2 = text[-5:-18:-1]\n",
    "name3 = text[::-1][5:18]\n",
    "print(name2)"
   ]
  },
  {
   "cell_type": "markdown",
   "metadata": {},
   "source": [
    "1 - (H - P + L * Math.tan(theta)) / T"
   ]
  },
  {
   "cell_type": "code",
   "execution_count": 8,
   "metadata": {},
   "outputs": [
    {
     "name": "stdout",
     "output_type": "stream",
     "text": [
      "[1.    1.    1.    1.    1.    1.    1.    1.    1.    1.    1.    1.\n",
      " 1.    1.    1.    1.    1.    1.    1.    1.    1.    1.    1.    1.\n",
      " 1.    1.    1.    1.    1.    1.    1.    1.    1.    1.    0.    0.\n",
      " 0.    0.    0.    0.    0.    0.    0.    0.    0.    0.    0.    0.\n",
      " 0.    0.    0.    0.    0.    0.    0.    0.    0.    0.    0.    0.\n",
      " 0.    0.    0.    0.    0.    0.    0.    0.    0.    0.    0.    0.\n",
      " 0.    0.    0.    0.    0.005 0.069 0.131 0.192 0.252 0.31  0.368 0.425\n",
      " 0.481 0.536 0.59  0.644 0.697 0.75  0.802 0.854 0.906 0.957 1.    1.\n",
      " 1.    1.    1.    1.   ]\n",
      "theta0 = 79.51 deg\n"
     ]
    }
   ],
   "source": [
    "H = 2.25\n",
    "P = 2.60\n",
    "L = 3.20\n",
    "w = 0.25\n",
    "\n",
    "a_deg = np.linspace(120.0, 00.0, 100)\n",
    "theta = a_deg * np.pi / 180.0\n",
    "T = 1.35\n",
    "\n",
    "theta0 = np.pi/2 - np.arctan(w/T)\n",
    "\n",
    "def tau(theta_):\n",
    "    if theta_ > theta0:\n",
    "        return 1.0\n",
    "    \n",
    "    return (1.0 - (H - P + L * np.tan(theta_)) / T) \n",
    "\n",
    "# apply tau to every element of theta\n",
    "\n",
    "t = np.array([tau(theta_) for theta_ in theta])\n",
    " \n",
    "\n",
    "t0 = tau(theta0)\n",
    "\n",
    "# constrain tau to be between 0 and 1\n",
    "t[t < 0] = 0.0\n",
    "t[t > 1.0] = 1.0\n",
    "\n",
    "\n",
    "\n",
    "# print tau with 3 decimal places\n",
    "print(np.round(t, 3))\n",
    "print(f'theta0 = {theta0 * 180 / np.pi:.2f} deg')"
   ]
  },
  {
   "cell_type": "code",
   "execution_count": 9,
   "metadata": {},
   "outputs": [
    {
     "data": {
      "image/png": "[encoded data removed]",
      "text/plain": [
       "<Figure size 432x288 with 1 Axes>"
      ]
     },
     "metadata": {
      "needs_background": "light"
     },
     "output_type": "display_data"
    }
   ],
   "source": [
    "# plot tau vs theta\n",
    "import matplotlib.pyplot as plt\n",
    "\n",
    "import sys\n",
    "sys.path.append('myUtils')\n",
    "\n",
    "import myGraph as mg \n",
    "\n",
    "mg.showAxes(plt, grid=True)\n",
    "plt.plot(a_deg, t)\n",
    "plt.xlabel('Angle of Attack (deg)')\n",
    "plt.ylabel('Curtain %')\n",
    "plt.title('Curtain % vs Angle of Attack')\n",
    "plt.show()"
   ]
  },
  {
   "cell_type": "code",
   "execution_count": 18,
   "metadata": {},
   "outputs": [
    {
     "name": "stdout",
     "output_type": "stream",
     "text": [
      "(100, 100) (100, 100)\n"
     ]
    },
    {
     "data": {
      "image/png": "[encoded data removed]",
      "text/plain": [
       "<Figure size 432x288 with 2 Axes>"
      ]
     },
     "metadata": {
      "needs_background": "light"
     },
     "output_type": "display_data"
    }
   ],
   "source": [
    "x = np.linspace(-10, 10, 100)\n",
    "y = np.linspace(-10, 10, 100)\n",
    "\n",
    "X, Y = np.meshgrid(x, y)\n",
    "print (X.shape, Y.shape)\n",
    " \n",
    "Z = X**2 + Y**2\n",
    " \n",
    "plt.contourf(X, Y, Z)\n",
    "plt.colorbar()\n",
    "# # set X range to X.min() to X.max() and Y range to Y.min() to Y.max()\n",
    "# plt.axis([X.min(), X.max(), Y.min(), Y.max()])\n",
    "\n",
    "# color map options: https://matplotlib.org/3.1.0/tutorials/colors/colormaps.html\n",
    "plt.set_cmap('viridis')\n",
    "\n",
    "plt.show()"
   ]
  }
 ],
 "metadata": {
  "kernelspec": {
   "display_name": "Python 3.8.10 64-bit",
   "language": "python",
   "name": "python3"
  },
  "language_info": {
   "codemirror_mode": {
    "name": "ipython",
    "version": 3
   },
   "file_extension": ".py",
   "mimetype": "text/x-python",
   "name": "python",
   "nbconvert_exporter": "python",
   "pygments_lexer": "ipython3",
   "version": "3.8.10"
  },
  "orig_nbformat": 4,
  "vscode": {
   "interpreter": {
    "hash": "570feb405e2e27c949193ac68f46852414290d515b0ba6e5d90d076ed2284471"
   }
  }
 },
 "nbformat": 4,
 "nbformat_minor": 2
}
