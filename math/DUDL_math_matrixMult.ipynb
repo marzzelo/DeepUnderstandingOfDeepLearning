{
 "cells": [
  {
   "cell_type": "markdown",
   "metadata": {
    "id": "bhWV8oes-wKR"
   },
   "source": [
    "# COURSE: A deep understanding of deep learning\n",
    "## SECTION: Math prerequisites\n",
    "### LECTURE: Matrix multiplication\n",
    "#### TEACHER: Mike X Cohen, sincxpress.com\n",
    "##### COURSE URL: udemy.com/course/deeplearning_x/?couponCode=202305"
   ]
  },
  {
   "cell_type": "code",
   "execution_count": 1,
   "metadata": {
    "id": "vRQNyNtlDoOb"
   },
   "outputs": [],
   "source": [
    "# import libraries\n",
    "import numpy as np\n",
    "import torch"
   ]
  },
  {
   "cell_type": "markdown",
   "metadata": {
    "id": "K0BSQG0fDpt_"
   },
   "source": [
    "# Using numpy"
   ]
  },
  {
   "cell_type": "code",
   "execution_count": 12,
   "metadata": {
    "id": "T4_veEYqDpx9"
   },
   "outputs": [
    {
     "name": "stdout",
     "output_type": "stream",
     "text": [
      "[[-1.29 -0.67 -0.6   0.57]\n",
      " [-0.61  0.28 -0.49  0.56]\n",
      " [ 0.12 -0.76 -0.66  1.  ]] \n",
      "\n",
      " [[-0.51 -0.28  1.48 -0.87  0.68]\n",
      " [-0.41 -0.21 -0.8   0.49  1.18]\n",
      " [ 0.47 -0.5   0.84 -0.62  0.32]\n",
      " [-1.42  0.32  1.8   0.29 -0.88]] \n",
      "\n",
      " [[-0.95 -0.1  -0.37  0.57 -1.46 -1.57 -2.28]\n",
      " [-0.69 -1.61  1.68  0.3   0.82  0.88  0.12]\n",
      " [-0.51  2.89 -0.72 -0.63 -0.25 -1.3  -1.22]]\n"
     ]
    }
   ],
   "source": [
    "# create some random matrices\n",
    "from ftplib import CRLF\n",
    "\n",
    "\n",
    "A = np.random.randn(3,4)\n",
    "B = np.random.randn(4,5)\n",
    "C = np.random.randn(3,7)\n",
    "\n",
    "print(np.round(A, 2), CRLF*2, np.round(B, 2), CRLF*2, np.round(C, 2))"
   ]
  },
  {
   "cell_type": "code",
   "execution_count": 14,
   "metadata": {},
   "outputs": [
    {
     "name": "stdout",
     "output_type": "stream",
     "text": [
      "[[-0.17  0.98 -0.86  1.33 -2.35]\n",
      " [-0.83  0.54 -0.53  1.14 -0.74]\n",
      " [-1.48  0.77  2.03  0.22 -1.91]] \n",
      "\n",
      "[[ 1.58  0.83  1.25 -1.43]\n",
      " [ 1.48 -2.58 -1.06  1.92]\n",
      " [-0.65  1.26 -0.13  0.02]\n",
      " [-1.    0.18 -0.08 -0.13]\n",
      " [ 1.35  1.4   0.64 -0.62]\n",
      " [ 1.31  2.28  1.37 -1.69]\n",
      " [ 2.71  2.49  2.13 -2.45]]\n"
     ]
    }
   ],
   "source": [
    "# try some multiplications...\n",
    "print(np.round( A@B   ,2), CRLF)\n",
    "# print(np.round( A@C   ,2)), print(' ')\n",
    "# print(np.round( B@C   ,2)), print(' ')\n",
    "print(np.round( C.T@A ,2))"
   ]
  },
  {
   "cell_type": "markdown",
   "metadata": {
    "id": "89qsNy19Dp1U"
   },
   "source": [
    "# Using pytorch"
   ]
  },
  {
   "cell_type": "code",
   "execution_count": 15,
   "metadata": {
    "id": "4Yrdf4WOEjxz"
   },
   "outputs": [
    {
     "name": "stdout",
     "output_type": "stream",
     "text": [
      "tensor([[ 1.1100, -3.4700,  1.3100, -2.2100,  4.2000,  2.3400,  5.4100],\n",
      "        [ 1.2300, -2.5000,  1.6700, -2.6900,  1.3000,  1.5600,  4.2100],\n",
      "        [-0.6000, -1.1300, -0.0100, -0.2600, -0.5600,  0.7300, -0.6700]],\n",
      "       dtype=torch.float64)\n",
      " \n",
      "tensor([[ 1.1100, -3.4700,  1.3100, -2.2100,  4.2000,  2.3400,  5.4100],\n",
      "        [ 1.2300, -2.5000,  1.6700, -2.6900,  1.3000,  1.5600,  4.2100],\n",
      "        [-0.6000, -1.1300, -0.0100, -0.2600, -0.5600,  0.7300, -0.6700]])\n"
     ]
    }
   ],
   "source": [
    "# create some random matrices\n",
    "A  = torch.randn(3,4)\n",
    "B  = torch.randn(4,5)\n",
    "C1 = np.random.randn(4,7)\n",
    "C2 = torch.tensor( C1,dtype=torch.float )\n",
    "\n",
    "# try some multiplications...\n",
    "# print(np.round( A@B   ,2)), print(' ')\n",
    "# print(np.round( A@B.T ,2)), print(' ')\n",
    "print(np.round( A@C1  ,2)), print(' ')\n",
    "print(np.round( A@C2  ,2))"
   ]
  }
 ],
 "metadata": {
  "colab": {
   "authorship_tag": "ABX9TyN3xNttY0efRLiZkxgkBGe2",
   "collapsed_sections": [],
   "name": "DUDL_math_matrixMult.ipynb",
   "provenance": []
  },
  "kernelspec": {
   "display_name": "Python 3",
   "name": "python3"
  },
  "language_info": {
   "codemirror_mode": {
    "name": "ipython",
    "version": 3
   },
   "file_extension": ".py",
   "mimetype": "text/x-python",
   "name": "python",
   "nbconvert_exporter": "python",
   "pygments_lexer": "ipython3",
   "version": "3.9.13"
  }
 },
 "nbformat": 4,
 "nbformat_minor": 0
}
