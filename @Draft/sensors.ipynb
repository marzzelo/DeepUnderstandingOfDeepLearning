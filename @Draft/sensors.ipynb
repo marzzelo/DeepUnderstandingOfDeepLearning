{
 "cells": [
  {
   "cell_type": "code",
   "execution_count": null,
   "metadata": {},
   "outputs": [],
   "source": [
    "# The file appears to have a structure where each dataset is preceded by a row containing its name\n",
    "# First, identify the rows that contain these names\n",
    "sensor_name_rows = data[0].str.contains('binary_sensor')\n",
    "\n",
    "# Split the data into separate datasets based on these rows\n",
    "datasets = {}\n",
    "current_sensor = None\n",
    "\n",
    "for i, row in data.iterrows():\n",
    "    if sensor_name_rows[i]:\n",
    "        # This row contains the sensor name, which we'll use as the dataset name\n",
    "        current_sensor = row[0].split('.')[1]  # Extract name part after 'binary_sensor.'\n",
    "        datasets[current_sensor] = []\n",
    "    elif current_sensor:\n",
    "        # Add rows to the current dataset, skip the first row which contains column names\n",
    "        if row[0] != \"Time stamp\":\n",
    "            datasets[current_sensor].append(row)\n",
    "\n",
    "# Convert lists to dataframes and save them as CSV files\n",
    "saved_files = []\n",
    "for sensor_name, dataset in datasets.items():\n",
    "    df = pd.DataFrame(dataset, columns=['Time stamp', 'State'])\n",
    "    file_name = f'/mnt/data/{sensor_name}.csv'\n",
    "    df.to_csv(file_name, index=False)\n",
    "    saved_files.append(file_name)\n",
    "\n",
    "saved_files  # List of saved files' paths\n",
    "\n"
   ]
  },
  {
   "cell_type": "code",
   "execution_count": null,
   "metadata": {},
   "outputs": [],
   "source": [
    "# It appears that the rows were added as Series objects, not as lists. This caused the formatting issue.\n",
    "# Let's correct this by converting each Series to a list before adding it to the dataset\n",
    "\n",
    "# Re-creating the datasets with the corrected approach\n",
    "corrected_datasets = {}\n",
    "current_sensor = None\n",
    "\n",
    "for i, row in data.iterrows():\n",
    "    if sensor_name_rows[i]:\n",
    "        # This row contains the sensor name\n",
    "        current_sensor = row[0].split('.')[1]  # Extract name part after 'binary_sensor.'\n",
    "        corrected_datasets[current_sensor] = []\n",
    "    elif current_sensor:\n",
    "        # Add rows as lists to the current dataset, skip the first row which contains column names\n",
    "        if row[0] != \"Time stamp\":\n",
    "            corrected_datasets[current_sensor].append(row.tolist())\n",
    "\n",
    "# Convert lists to dataframes and re-save them as CSV files\n",
    "corrected_saved_files = []\n",
    "for sensor_name, dataset in corrected_datasets.items():\n",
    "    df = pd.DataFrame(dataset, columns=['Time stamp', 'State'])\n",
    "    file_name = f'/mnt/data/{sensor_name}_corrected.csv'\n",
    "    df.to_csv(file_name, index=False)\n",
    "    corrected_saved_files.append(file_name)\n",
    "\n",
    "corrected_saved_files  # List of corrected saved files' paths\n"
   ]
  },
  {
   "cell_type": "code",
   "execution_count": null,
   "metadata": {},
   "outputs": [],
   "source": [
    "# Saving the merged dataframe to a CSV file\n",
    "merged_file_path = '/mnt/data/merged_sensors_data.csv'\n",
    "merged_df.to_csv(merged_file_path, index=False)\n",
    "\n",
    "merged_file_path  # Path to the merged CSV file\n"
   ]
  },
  {
   "cell_type": "code",
   "execution_count": null,
   "metadata": {},
   "outputs": [],
   "source": [
    "import matplotlib.pyplot as plt\n",
    "import seaborn as sns\n",
    "\n",
    "# Calculating the correlation matrix\n",
    "correlation_matrix = merged_df.iloc[:, 1:].corr()  # Excluding the 'Time stamp' column for correlation\n",
    "\n",
    "# Plotting the correlation matrix\n",
    "plt.figure(figsize=(10, 8))\n",
    "sns.heatmap(correlation_matrix, annot=True, cmap='coolwarm', fmt=\".2f\")\n",
    "plt.title(\"Correlation Matrix Between Sensors\")\n",
    "plt.show()\n"
   ]
  },
  {
   "cell_type": "code",
   "execution_count": null,
   "metadata": {},
   "outputs": [],
   "source": [
    "# Removing the date substring from 'Time stamp' column and keeping only the time in the format hh:mm:ss\n",
    "merged_df['Time stamp'] = pd.to_datetime(merged_df['Time stamp']).dt.time\n",
    "\n",
    "# Summing the rows with the same resulting 'Time stamp'\n",
    "grouped_df = merged_df.groupby('Time stamp').sum().reset_index()\n",
    "\n",
    "grouped_df.head()  # Display the first few rows of the modified dataframe\n"
   ]
  }
 ],
 "metadata": {
  "kernelspec": {
   "display_name": "Python 3.8.10 64-bit",
   "language": "python",
   "name": "python3"
  },
  "language_info": {
   "name": "python",
   "version": "3.8.10"
  },
  "orig_nbformat": 4,
  "vscode": {
   "interpreter": {
    "hash": "570feb405e2e27c949193ac68f46852414290d515b0ba6e5d90d076ed2284471"
   }
  }
 },
 "nbformat": 4,
 "nbformat_minor": 2
}
