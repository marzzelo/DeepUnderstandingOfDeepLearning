{
 "cells": [
  {
   "cell_type": "markdown",
   "metadata": {},
   "source": [
    "To create the decode function, we need to follow these steps:\n",
    "\n",
    "- Read the contents of the .txt file.\n",
    "- Parse each line to extract the number and the corresponding word.\n",
    "- Determine which numbers correspond to the ends of each line in the pyramid.\n",
    "- Construct the message by concatenating the words associated with these key numbers.\n",
    "\n",
    "Here's how the decode function can be implemented in Python:"
   ]
  },
  {
   "cell_type": "code",
   "execution_count": 6,
   "metadata": {},
   "outputs": [],
   "source": [
    "def decode(message_file):\n",
    "    with open(message_file, 'r') as file:\n",
    "        lines = file.readlines() # Read the file's lines\n",
    "\n",
    "    # Parse the file and create a dictionary with numbers as keys and words as values\n",
    "    number_word_map = {} # The dictionary\n",
    "    for line in lines:\n",
    "        number, word = line.strip().split(' ') # Split the line into number and word\n",
    "        number_word_map[int(number)] = word    # Add the number and word to the dictionary\n",
    "        \n",
    "\n",
    "    # Calculate the pyramid's end numbers\n",
    "    end_numbers = []\n",
    "    current_line = 1\n",
    "    next_number = 1\n",
    "    \n",
    "    while next_number <= max(number_word_map.keys()): # While the next number is in the dictionary\n",
    "        end_numbers.append(next_number)\t# Add the number to the list\n",
    "        current_line += 1\t\t\t\t# Increase the current line\n",
    "        next_number += current_line\t\t# Calculate the next number\n",
    "\n",
    "    # Construct the message\n",
    "    message = ' '.join([number_word_map[number] for number in end_numbers if number in number_word_map])\n",
    "\n",
    "    return message\n",
    "\n",
    "# ======================================================\n",
    "# Usage example\n",
    "# ======================================================\n",
    "# decoded_message = decode('pyramid.txt')\n",
    "# print(decoded_message)\n"
   ]
  },
  {
   "cell_type": "markdown",
   "metadata": {},
   "source": [
    "This code reads the file, builds a dictionary mapping numbers to words, calculates the end numbers of each line in the pyramid, and then constructs the message. Remember to replace 'path_to_message_file.txt' with the actual path to your message file when using the function."
   ]
  },
  {
   "cell_type": "code",
   "execution_count": 7,
   "metadata": {},
   "outputs": [
    {
     "name": "stdout",
     "output_type": "stream",
     "text": [
      "cause check trade share produce offer single back it begin slave planet are though guide am center prepare opposite class ease meant card speed\n"
     ]
    }
   ],
   "source": [
    "print(decode(\"pyramid.txt\"))"
   ]
  },
  {
   "cell_type": "code",
   "execution_count": 8,
   "metadata": {},
   "outputs": [],
   "source": [
    "def decode2(message_file):\n",
    "    with open(message_file, 'r') as file:\n",
    "        lines = file.readlines()\n",
    "\n",
    "    # Parse the file and create a dictionary with numbers as keys and words as values\n",
    "    number_word_map = {}\n",
    "    for line in lines:\n",
    "        number, word = line.strip().split(' ')\n",
    "        number_word_map[int(number)] = word\n",
    "\n",
    "    # Calculate and display the pyramid\n",
    "    max_number = max(number_word_map.keys())\n",
    "    current_line = 1\n",
    "    next_number = 1\n",
    "    pyramid = []\n",
    "    end_numbers = []\n",
    "\n",
    "    while next_number <= max_number:\n",
    "        line_numbers = []\n",
    "        for _ in range(current_line):\n",
    "            if next_number > max_number:\n",
    "                break\n",
    "            line_numbers.append(next_number)\n",
    "            if len(line_numbers) == current_line:\n",
    "                end_numbers.append(next_number)\n",
    "            next_number += 1\n",
    "        pyramid.append(line_numbers)\n",
    "        current_line += 1\n",
    "\n",
    "    # Print the pyramid\n",
    "    for line in pyramid:\n",
    "        print(' '.join(str(num) for num in line))\n",
    "\n",
    "    # Construct the message\n",
    "    message = ' '.join([number_word_map[number] for number in end_numbers if number in number_word_map])\n",
    "\n",
    "    return message\n",
    "\n",
    "# Usage example\n",
    "# decoded_message = decode('path_to_message_file.txt')\n",
    "# print(\"\\nDecoded Message:\")\n",
    "# print(decoded_message)\n"
   ]
  },
  {
   "cell_type": "code",
   "execution_count": 9,
   "metadata": {},
   "outputs": [
    {
     "name": "stdout",
     "output_type": "stream",
     "text": [
      "1\n",
      "2 3\n",
      "4 5 6\n",
      "7 8 9 10\n",
      "11 12 13 14 15\n",
      "16 17 18 19 20 21\n",
      "22 23 24 25 26 27 28\n",
      "29 30 31 32 33 34 35 36\n",
      "37 38 39 40 41 42 43 44 45\n",
      "46 47 48 49 50 51 52 53 54 55\n",
      "56 57 58 59 60 61 62 63 64 65 66\n",
      "67 68 69 70 71 72 73 74 75 76 77 78\n",
      "79 80 81 82 83 84 85 86 87 88 89 90 91\n",
      "92 93 94 95 96 97 98 99 100 101 102 103 104 105\n",
      "106 107 108 109 110 111 112 113 114 115 116 117 118 119 120\n",
      "121 122 123 124 125 126 127 128 129 130 131 132 133 134 135 136\n",
      "137 138 139 140 141 142 143 144 145 146 147 148 149 150 151 152 153\n",
      "154 155 156 157 158 159 160 161 162 163 164 165 166 167 168 169 170 171\n",
      "172 173 174 175 176 177 178 179 180 181 182 183 184 185 186 187 188 189 190\n",
      "191 192 193 194 195 196 197 198 199 200 201 202 203 204 205 206 207 208 209 210\n",
      "211 212 213 214 215 216 217 218 219 220 221 222 223 224 225 226 227 228 229 230 231\n",
      "232 233 234 235 236 237 238 239 240 241 242 243 244 245 246 247 248 249 250 251 252 253\n",
      "254 255 256 257 258 259 260 261 262 263 264 265 266 267 268 269 270 271 272 273 274 275 276\n",
      "277 278 279 280 281 282 283 284 285 286 287 288 289 290 291 292 293 294 295 296 297 298 299 300\n"
     ]
    },
    {
     "data": {
      "text/plain": [
       "'cause check trade share produce offer single back it begin slave planet are though guide am center prepare opposite class ease meant card speed'"
      ]
     },
     "execution_count": 9,
     "metadata": {},
     "output_type": "execute_result"
    }
   ],
   "source": [
    "decode2(\"pyramid.txt\")"
   ]
  }
 ],
 "metadata": {
  "kernelspec": {
   "display_name": ".venv",
   "language": "python",
   "name": "python3"
  },
  "language_info": {
   "codemirror_mode": {
    "name": "ipython",
    "version": 3
   },
   "file_extension": ".py",
   "mimetype": "text/x-python",
   "name": "python",
   "nbconvert_exporter": "python",
   "pygments_lexer": "ipython3",
   "version": "3.9.13"
  }
 },
 "nbformat": 4,
 "nbformat_minor": 2
}
