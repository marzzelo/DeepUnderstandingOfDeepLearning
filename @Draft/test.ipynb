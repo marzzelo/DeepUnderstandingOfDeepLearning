{
 "cells": [
  {
   "cell_type": "markdown",
   "metadata": {},
   "source": [
    "Solutions A and C lack generality, since they only consider arrays of 3 elements (possibly overfitting to the examples given by the user). Solution B contemplates arrays of any number of elements, in addition to being more modular by dividing the problem into three functions with specific tasks, avoiding \"nested if\" as in case A or destructured code as in case C."
   ]
  },
  {
   "cell_type": "markdown",
   "metadata": {},
   "source": [
    "Solution A is the most efficient in both time and complexity since it checks only the numbers in the smallest necessary range (up to sqrt(n)). Solution B requires reserving memory for an array, which can be arbitrarily large and the algorithm used is inefficient. Solution C checks a range greater than necessary, in addition to including comparisons in the loop that could be outside of it, reducing time efficiency."
   ]
  },
  {
   "cell_type": "code",
   "execution_count": 13,
   "metadata": {},
   "outputs": [],
   "source": [
    "# Given an input integer n, create a while loop that utilizes arithmetic to store the frequency of each digit present in n in a dictionary frequency_map.\n",
    "# The input number n will be provided as a numeric data type, not a string. For each loop iteration, you must update frequency_map before reducing n\n",
    "\n",
    "def digit_frequency(n):\n",
    "\tfrequency_map = {}\n",
    "\twhile n > 0:\n",
    "\t\tdigit = n % 10\n",
    "\t\tif digit in frequency_map:\n",
    "\t\t\tfrequency_map[digit] += 1\n",
    "\t\telse:\n",
    "\t\t\tfrequency_map[digit] = 1\n",
    "\t\tn //= 10\n",
    "\treturn frequency_map"
   ]
  },
  {
   "cell_type": "code",
   "execution_count": 14,
   "metadata": {},
   "outputs": [],
   "source": [
    "def is_staircase(nums):\n",
    "    col_length = 0\n",
    "    staircase = []\n",
    "\n",
    "    while len(nums) > 0:\n",
    "        col_length = col_length + 1\n",
    "        column = []\n",
    "\n",
    "        for i in range(0, col_length):\n",
    "            column.append(nums.pop(0))\n",
    "\n",
    "            if (len(nums) == 0):\n",
    "                if i < col_length - 1:\n",
    "                    return False\n",
    "                return staircase\n",
    "        staircase.append(column)"
   ]
  },
  {
   "cell_type": "code",
   "execution_count": 15,
   "metadata": {},
   "outputs": [],
   "source": [
    "def is_staircase2(nums):\n",
    "    col_length = 0\n",
    "    staircase = []\n",
    "    input_list = nums.copy()\n",
    "\n",
    "    while len(input_list) > 0:\n",
    "        col_length = col_length + 1\n",
    "        column = []\n",
    "\n",
    "        for i in range(0, col_length):\n",
    "            column.append(input_list.pop(0))\n",
    "\n",
    "            if (len(input_list) == 0):\n",
    "                if i < col_length - 1:\n",
    "                    return False\n",
    "                staircase.append(column)\n",
    "                return staircase\n",
    "        staircase.append(column)"
   ]
  },
  {
   "cell_type": "code",
   "execution_count": 25,
   "metadata": {},
   "outputs": [
    {
     "name": "stdout",
     "output_type": "stream",
     "text": [
      "[[1], [2, 3]]\n",
      "lista:  [1, 2, 3, 4, 5, 6]\n",
      "False\n",
      "False\n",
      "False\n",
      "[[1], [2, 3], [4, 5, 6]]\n",
      "lista:  []\n",
      "\n",
      "\n",
      "Test is_staircase2\n",
      "[[1], [2, 3], [4, 5, 6]]\n",
      "False\n",
      "False\n",
      "False\n",
      "[[1], [2, 3], [4, 5, 6], [7, 8, 9, 10]]\n",
      "[1, 2, 3, 4, 5, 6, 7, 8, 9, 10]\n"
     ]
    }
   ],
   "source": [
    "# test is_staircase\n",
    "lista = [1, 2, 3, 4, 5, 6]\n",
    "print(is_staircase([1, 2, 3, 4, 5, 6]))\n",
    "print(\"lista: \", lista)\n",
    "print(is_staircase([1, 2, 3, 4, 5, 6, 7]))\n",
    "print(is_staircase([1, 2, 3, 4, 5, 6, 7, 8]))\n",
    "print(is_staircase([1, 2, 3, 4, 5, 6, 7, 8, 9]))\n",
    "lista = [1, 2, 3, 4, 5, 6, 7, 8, 9, 10]\n",
    "print(is_staircase(lista))\n",
    "print(\"lista: \", lista)\n",
    " \n",
    "print('\\n\\nTest is_staircase2')\n",
    "# test is_staircase2\n",
    "print(is_staircase2([1, 2, 3, 4, 5, 6]))\n",
    "print(is_staircase2([1, 2, 3, 4, 5, 6, 7]))\n",
    "print(is_staircase2([1, 2, 3, 4, 5, 6, 7, 8]))\n",
    "print(is_staircase2([1, 2, 3, 4, 5, 6, 7, 8, 9]))\n",
    "lista = [1, 2, 3, 4, 5, 6, 7, 8, 9, 10]\n",
    "print(is_staircase2(lista))\n",
    "print(lista)"
   ]
  }
 ],
 "metadata": {
  "kernelspec": {
   "display_name": ".venv",
   "language": "python",
   "name": "python3"
  },
  "language_info": {
   "codemirror_mode": {
    "name": "ipython",
    "version": 3
   },
   "file_extension": ".py",
   "mimetype": "text/x-python",
   "name": "python",
   "nbconvert_exporter": "python",
   "pygments_lexer": "ipython3",
   "version": "3.9.13"
  }
 },
 "nbformat": 4,
 "nbformat_minor": 2
}
